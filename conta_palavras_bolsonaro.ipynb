{
 "cells": [
  {
   "cell_type": "code",
   "execution_count": 9,
   "metadata": {},
   "outputs": [],
   "source": [
    "from pdfminer.pdfinterp import PDFResourceManager, process_pdf\n",
    "from pdfminer.converter import TextConverter\n",
    "from pdfminer.layout import LAParams\n",
    "from pdfminer.psparser import PSEOF\n",
    "from io import StringIO\n",
    "from io import open\n",
    "from urllib.request import urlopen\n",
    "\n",
    "def readPDF(pdfFile):\n",
    "    rsrcmgr = PDFResourceManager()\n",
    "    retstr = StringIO()\n",
    "    laparams = LAParams()\n",
    "    device = TextConverter(rsrcmgr, retstr, laparams=laparams)\n",
    "\n",
    "    process_pdf(rsrcmgr, device, pdfFile)\n",
    "    device.close()\n",
    "\n",
    "    content = retstr.getvalue()\n",
    "    retstr.close()\n",
    "    return content\n",
    "\n",
    "pdfFile = open('bolsonaro.pdf', 'rb')\n",
    "fala_bolsonaro = readPDF(pdfFile)"
   ]
  },
  {
   "cell_type": "code",
   "execution_count": 12,
   "metadata": {},
   "outputs": [
    {
     "name": "stdout",
     "output_type": "stream",
     "text": [
      "['gustavo', 'o', 'que', 'eu', 'acho', 'desse', 'cara', 'da', 'globo', 'dentro', 'do', 'palácio', 'do', 'planalto', 'eu', 'não', 'quero', 'ele', 'aí', 'dentro', 'qual', 'a', 'mensagem', 'que', 'vai', 'dar', 'para', 'as', 'outras', 'emissoras', 'que', 'nós', 'estamos', 'se', 'aproximando', 'da', 'globo', 'então', 'não', 'dá', 'para', 'ter', 'esse', 'tipo', 'de', 'relacionamento', 'agora', 'inimigo', 'passivo', 'sim', 'agora', 'trazer', 'o', 'inimigo', 'para', 'dentro', 'de', 'casa', 'é', 'outra', 'história', 'pô', 'cê', 'tem', 'que', 'ter', 'essa', 'visão', 'pelo', 'amor', 'de', 'deus', 'cara', 'fica', 'complicado', 'a', 'gente', 'ter', 'um', 'relacionamento', 'legal', 'dessa', 'forma', 'porque', 'cê', 'tá', 'trazendo', 'o', 'maior', 'cara', 'que', 'me', 'ferrou', 'antes', 'durante', 'agora', 'e', 'após', 'a', 'campanha', 'para', 'dentro', 'de', 'casa', 'me', 'desculpa', 'como', 'presidente', 'da', 'república', 'cancela', 'não', 'quero', 'esse', 'cara', 'aí', 'dentro', 'ponto', 'final', 'um', 'abraço', 'aí', 'gustavo', 'uma', 'pergunta', 'jair', 'bolsonaro', 'decidiu', 'enviar', 'para', 'a', 'amazônia', 'não', 'tô', 'entendendo', 'quem', 'tá', 'patrocinando', 'essa', 'ida', 'para', 'a', 'amazônia', 'quem', 'tá', 'sendo', 'o', 'cabeça', 'dessa', 'viagem', 'à', 'amazônia', 'um', 'abraço', 'aí', 'gustavo', 'até', 'mais', 'ô', 'bebianno', 'essa', 'missão', 'não', 'vai', 'ser', 'realizada', 'conversei', 'com', 'o', 'ricardo', 'salles', 'ele', 'tava', 'chateado', 'que', 'tinha', 'muita', 'coisa', 'para', 'fazer', 'e', 'está', 'entendendo', 'como', 'missão', 'minha', 'conversei', 'com', 'a', 'damares', 'a', 'mesma', 'coisa', 'agora', 'eu', 'não', 'quero', 'que', 'vocês', 'viajem', 'porque', 'vocês', 'criam', 'a', 'expectativa', 'de', 'uma', 'obra', 'daí', 'vai', 'ficar', 'o', 'povo', 'todo', 'me', 'cobrando', 'isso', 'pode', 'ser', 'feito', 'quando', 'nós', 'acharmos', 'que', 'vai', 'ter', 'recurso', 'o', 'orçamento', 'é', 'nosso', 'vai', 'ser', 'aprovado', 'etc', 'então', 'essa', 'viagem', 'não', 'se', 'realizará', 'tá', 'ok', 'um', 'abraço', 'aí', 'gustavo', 'o', 'caso', 'incitando', 'a', 'saída', 'é', 'mais', 'uma', 'mentira', 'você', 'conhece', 'muito', 'bem', 'a', 'imprensa', 'melhor', 'do', 'que', 'eu', 'agora', 'você', 'não', 'falou', 'comigo', 'nenhuma', 'vez', 'no', 'dia', 'de', 'ontem', 'ele', 'esteve', 'comigo', '24', 'horas', 'por', 'dia', 'então', 'não', 'está', 'mentindo', 'nada', 'nem', 'está', 'perseguindo', 'ninguém', 'ô', 'gustavo', 'usar', 'da', 'que', 'usou', 'do', 'whatsapp', 'para', 'falar', 'três', 'vezes', 'comigo', 'aí', 'é', 'demais', 'da', 'tua', 'parte', 'aí', 'é', 'demais', 'e', 'eu', 'não', 'vou', 'mais', 'responder', 'a', 'você', 'outra', 'coisa', 'eu', 'sei', 'que', 'você', 'manda', 'lá', 'no', 'antagonista', 'a', 'nota', 'sobre', 'bolsonaro', 'não', 'atender', 'bebianno', 'foi', 'pregada', 'lá', 'dias', 'antes', 'você', 'pregou', 'uma', 'nota', 'que', 'tentou', 'falar', 'comigo', 'e', 'não', 'conseguiu', 'no', 'domingo', 'eu', 'sabia', 'qual', 'era', 'a', 'intenção', 'era', 'exatamente', 'dizer', 'que', 'conversou', 'comigo', 'e', 'que', 'está', 'tudo', 'muito', 'bem', 'então', 'faz', 'o', 'favor', 'ou', 'você', 'restabelece', 'a', 'verdade', 'ou', 'não', 'tem', 'conversa', 'a', 'partir', 'daqui', 'pra', 'frente', 'querer', 'empurrar', 'essa', 'batata', 'quente', 'desse', 'dinheiro', 'lá', 'pra', 'candidata', 'em', 'pernambuco', 'pro', 'meu', 'colo', 'aí', 'não', 'vai', 'dar', 'certo', 'aí', 'é', 'desonestidade', 'e', 'falta', 'de', 'caráter', 'agora', 'todas', 'as', 'notas', 'pregadas', 'nesse', 'sentido', 'foram', 'nesse', 'sentido', 'exatamente', 'então', 'a', 'polícia', 'federal', 'vai', 'entrar', 'no', 'circuito', 'já', 'entrou', 'no', 'circuito', 'pra', 'apurar', 'a', 'verdade', 'tudo', 'bem', 'vamos', 'ver', 'daí', 'quem', 'deve', 'paga', 'tá', 'certo', 'eu', 'sei', 'que', 'você', 'é', 'dessa', 'linha', 'minha', 'aí', 'um', 'abraço', 'bebianno', 'olha', 'como', 'você', 'entra', 'em', 'contradição', 'que', 'seja', 'a', 'folha', 'se', 'foi', 'uma', 'tentativa', 'tua', 'pra', 'mim', 'e', 'eu', 'não', 'atendi', 'eu', 'não', 'liguei', 'pra', 'folha', 'eu', 'não', 'ligo', 'pra', 'imprensa', 'nenhuma', 'quem', 'ligou', 'foi', 'você', 'quem', 'vazou', 'foi', 'você', 'dá', 'pra', 'você', 'entender', 'o', 'caminho', 'que', 'você', 'está', 'indo', 'e', 'você', 'tem', 'que', 'fazer', 'uma', 'reflexão', 'para', 'voltar', 'à', 'normalidade', 'deu', 'pra', 'entender', 'vou', 'repetir', 'se', 'você', 'tentou', 'falar', 'comigo', 'um', 'pra', 'um', 'se', 'alguém', 'vazou', 'pra', 'folha', 'não', 'fui', 'eu', 'só', 'pode', 'ser', 'você', 'tá', 'ok']\n"
     ]
    }
   ],
   "source": [
    "fala_bolsonaro = fala_bolsonaro.lower()\n",
    "fala_bolsonaro = fala_bolsonaro.replace(\".\", \"\")\n",
    "fala_bolsonaro = fala_bolsonaro.replace(\"!\", \"\")\n",
    "fala_bolsonaro = fala_bolsonaro.replace(\"?\", \"\")\n",
    "fala_bolsonaro = fala_bolsonaro.replace(\",\", \"\")\n",
    "fala_bolsonaro = fala_bolsonaro.replace(\":\", \"\")\n",
    "fala_bolsonaro = fala_bolsonaro.replace(\"–\", \"\")\n",
    "fala_bolsonaro = fala_bolsonaro.replace(\"“\", \"\")\n",
    "fala_bolsonaro = fala_bolsonaro.replace(\"”\", \"\")\n",
    "fala_bolsonaro = fala_bolsonaro.replace(\"…\", \"\")\n",
    "fala_bolsonaro = fala_bolsonaro.replace(\"(\", \"\")\n",
    "fala_bolsonaro = fala_bolsonaro.replace(\")\", \"\")\n",
    "fala_bolsonaro = fala_bolsonaro.split()\n",
    "\n",
    "print(fala_bolsonaro)"
   ]
  },
  {
   "cell_type": "code",
   "execution_count": 13,
   "metadata": {},
   "outputs": [
    {
     "name": "stdout",
     "output_type": "stream",
     "text": [
      "Somadas as palavras, os áudios de Gustavo Bebianno têm um total de 558 palavras.\n",
      "\n"
     ]
    }
   ],
   "source": [
    "cont = 0\n",
    "\n",
    "# Conta quantas palavras tem na música\n",
    "for palavra in fala_bolsonaro:\n",
    "    cont += 1\n",
    "\n",
    "# Mostra a quantidade de palavras das músicas\n",
    "print(f\"Somadas as palavras, os áudios de Gustavo Bebianno têm um total de {cont} palavras.\")\n",
    "print()"
   ]
  },
  {
   "cell_type": "code",
   "execution_count": 14,
   "metadata": {},
   "outputs": [
    {
     "name": "stdout",
     "output_type": "stream",
     "text": [
      "{'quero': 3, 'já': 1, 'repetir': 1, 'antagonista': 1, 'se': 5, 'um': 7, 'cobrando': 1, 'pode': 2, 'relacionamento': 2, 'domingo': 1, 'fazer': 2, 'melhor': 1, 'pregou': 1, 'inimigo': 2, 'salles': 1, 'quando': 1, 'ficar': 1, 'caso': 1, 'ninguém': 1, 'sendo': 1, 'mesma': 1, 'ver': 1, 'tentou': 2, 'caráter': 1, 'nada': 1, 'viagem': 2, 'emissoras': 1, 'nesse': 2, 'povo': 1, 'legal': 1, 'tava': 1, 'república': 1, 'eu': 12, 'gustavo': 5, 'durante': 1, 'obra': 1, 'ter': 4, 'dia': 2, 'sei': 2, 'sentido': 2, 'foram': 1, 'mim': 1, 'aí': 10, 'ligo': 1, 'ser': 4, 'lá': 3, 'damares': 1, 'após': 1, 'desculpa': 1, 'saída': 1, 'ele': 3, 'era': 2, 'nosso': 1, 'olha': 1, 'ou': 2, 'cara': 4, 'todo': 1, 'intenção': 1, 'pelo': 1, 'jair': 1, 'acharmos': 1, 'nenhuma': 2, 'paga': 1, 'outra': 2, 'normalidade': 1, 'atendi': 1, 'bebianno': 3, 'aproximando': 1, 'comigo': 6, 'conversa': 1, 'ponto': 1, 'entendendo': 2, 'outras': 1, 'presidente': 1, 'entrar': 1, 'decidiu': 1, 'whatsapp': 1, 'história': 1, 'do': 4, 'só': 1, 'caminho': 1, 'forma': 1, 'responder': 1, 'bem': 3, 'gente': 1, 'imprensa': 2, 'cê': 2, 'batata': 1, 'atender': 1, 'de': 7, 'ok': 2, 'antes': 2, 'nós': 2, 'dá': 2, 'dar': 2, 'campanha': 1, 'expectativa': 1, 'usar': 1, 'nota': 2, 'amazônia': 3, 'daqui': 1, 'foi': 4, 'folha': 3, 'partir': 1, 'meu': 1, 'ferrou': 1, 'colo': 1, 'com': 2, 'demais': 2, 'pregadas': 1, 'palácio': 1, 'deve': 1, 'missão': 2, 'planalto': 1, 'estamos': 1, 'como': 3, 'manda': 1, 'seja': 1, 'casa': 2, 'tem': 3, 'visão': 1, 'falou': 1, 'viajem': 1, 'agora': 6, 'passivo': 1, 'ida': 1, 'candidata': 1, 'vez': 1, 'você': 15, 'sobre': 1, 'acho': 1, 'está': 5, 'usou': 1, 'tá': 6, 'vou': 2, 'dessa': 3, 'conseguiu': 1, 'fui': 1, 'mentindo': 1, 'cabeça': 1, 'em': 2, 'deu': 1, 'chateado': 1, 'verdade': 2, 'vamos': 1, 'abraço': 4, 'conversou': 1, 'faz': 1, 'as': 2, 'mais': 3, 'vocês': 2, 'sabia': 1, 'entra': 1, 'exatamente': 2, 'pregada': 1, 'quente': 1, 'dias': 1, 'falar': 3, 'no': 5, 'dinheiro': 1, 'me': 3, 'realizada': 1, 'feito': 1, 'ontem': 1, 'certo': 2, 'linha': 1, 'falta': 1, 'tipo': 1, 'ligou': 1, 'e': 8, 'cancela': 1, 'o': 10, 'porque': 2, 'favor': 1, 'federal': 1, 'tentativa': 1, 'alguém': 1, 'bolsonaro': 2, 'entender': 2, 'não': 18, 'vazou': 2, 'deus': 1, 'que': 18, 'perseguindo': 1, 'minha': 2, 'dentro': 5, '24': 1, 'para': 9, 'tô': 1, 'é': 7, 'muita': 1, 'criam': 1, 'então': 5, 'enviar': 1, 'fica': 1, 'etc': 1, 'esse': 2, 'conversei': 2, 'mentira': 1, 'pra': 10, 'incitando': 1, 'patrocinando': 1, 'uma': 6, 'até': 1, 'a': 18, 'amor': 1, 'coisa': 3, 'ô': 2, 'querer': 1, 'maior': 1, 'globo': 2, 'essa': 5, 'tinha': 1, 'à': 2, 'apurar': 1, 'mensagem': 1, 'tua': 2, 'tudo': 2, 'contradição': 1, 'restabelece': 1, 'trazendo': 1, 'ricardo': 1, 'polícia': 1, 'pergunta': 1, 'muito': 2, 'horas': 1, 'liguei': 1, 'recurso': 1, 'reflexão': 1, 'indo': 1, 'daí': 2, 'trazer': 1, 'quem': 5, 'nem': 1, 'notas': 1, 'três': 1, 'pô': 1, 'frente': 1, 'desse': 2, 'vezes': 1, 'desonestidade': 1, 'sim': 1, 'entrou': 1, 'da': 5, 'complicado': 1, 'isso': 1, 'pro': 1, 'aprovado': 1, 'realizará': 1, 'conhece': 1, 'por': 1, 'parte': 1, 'circuito': 2, 'esteve': 1, 'voltar': 1, 'vai': 7, 'qual': 2, 'dizer': 1, 'pernambuco': 1, 'todas': 1, 'empurrar': 1, 'final': 1, 'orçamento': 1}\n"
     ]
    }
   ],
   "source": [
    "import csv\n",
    "\n",
    "contagem_repeticoes = {palavra:fala_bolsonaro.count(palavra) for palavra in set(fala_bolsonaro)}\n",
    "\n",
    "print(contagem_repeticoes)\n",
    "\n",
    "with open('palavras_repetidas_bolsonaro.csv'.format(str(contagem_repeticoes)), 'w') as arquivo_saida:\n",
    "    cabecalho = ['palavra', 'frequencia']\n",
    "    escritor = csv.DictWriter(arquivo_saida, fieldnames=cabecalho, lineterminator='\\n')\n",
    "    escritor.writeheader()\n",
    "    for palavra, frequencia in contagem_repeticoes.items():\n",
    "        escritor.writerow({'palavra': palavra, 'frequencia': frequencia})"
   ]
  },
  {
   "cell_type": "code",
   "execution_count": null,
   "metadata": {},
   "outputs": [],
   "source": []
  }
 ],
 "metadata": {
  "kernelspec": {
   "display_name": "Python 3",
   "language": "python",
   "name": "python3"
  },
  "language_info": {
   "codemirror_mode": {
    "name": "ipython",
    "version": 3
   },
   "file_extension": ".py",
   "mimetype": "text/x-python",
   "name": "python",
   "nbconvert_exporter": "python",
   "pygments_lexer": "ipython3",
   "version": "3.6.4"
  }
 },
 "nbformat": 4,
 "nbformat_minor": 2
}
