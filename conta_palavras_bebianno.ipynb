{
 "cells": [
  {
   "cell_type": "code",
   "execution_count": 53,
   "metadata": {},
   "outputs": [],
   "source": [
    "from pdfminer.pdfinterp import PDFResourceManager, process_pdf\n",
    "from pdfminer.converter import TextConverter\n",
    "from pdfminer.layout import LAParams\n",
    "from pdfminer.psparser import PSEOF\n",
    "from io import StringIO\n",
    "from io import open\n",
    "from urllib.request import urlopen\n",
    "\n",
    "def readPDF(pdfFile):\n",
    "    rsrcmgr = PDFResourceManager()\n",
    "    retstr = StringIO()\n",
    "    laparams = LAParams()\n",
    "    device = TextConverter(rsrcmgr, retstr, laparams=laparams)\n",
    "\n",
    "    process_pdf(rsrcmgr, device, pdfFile)\n",
    "    device.close()\n",
    "\n",
    "    content = retstr.getvalue()\n",
    "    retstr.close()\n",
    "    return content\n",
    "\n",
    "pdfFile = open('bebianno.pdf', 'rb')\n",
    "fala_bebianno = readPDF(pdfFile)"
   ]
  },
  {
   "cell_type": "code",
   "execution_count": 54,
   "metadata": {},
   "outputs": [
    {
     "name": "stdout",
     "output_type": "stream",
     "text": [
      "['capitão', 'há', 'várias', 'formas', 'de', 'se', 'falar', 'nós', 'trocamos', 'mensagens', 'ontem', 'três', 'vezes', 'ao', 'longo', 'do', 'dia', 'capitão', 'falamos', 'da', 'questão', 'do', 'institucional', 'do', 'globo', 'falamos', 'da', 'questão', 'da', 'viagem', 'falamos', 'por', 'escrito', 'capitão', 'qual', 'a', 'relevância', 'disso', 'capitão', 'capitão', 'as', 'coisas', 'precisam', 'ser', 'analisadas', 'de', 'outra', 'forma', 'tira', 'isso', 'do', 'lado', 'pessoal', 'ele', 'não', 'pode', 'atacar', 'um', 'ministro', 'dessa', 'forma', 'nem', 'a', 'mim', 'nem', 'a', 'ninguém', 'capitão', 'isso', 'está', 'errado', 'por', 'que', 'esse', 'ódio', 'qual', 'a', 'relevância', 'disso', 'vir', 'a', 'público', 'me', 'chamar', 'de', 'mentiroso', 'eu', 'só', 'fiz', 'o', 'bem', 'capitão', 'eu', 'só', 'fiz', 'o', 'bem', 'até', 'aqui', 'eu', 'só', 'estive', 'do', 'seu', 'lado', 'o', 'senhor', 'sabe', 'disso', 'será', 'que', 'o', 'senhor', 'vai', 'permitir', 'que', 'eu', 'seja', 'agredido', 'dessa', 'forma', 'isso', 'não', 'está', 'certo', 'não', 'capitão', 'desculpe', 'capitão', 'eu', 'só', 'prego', 'a', 'paz', 'o', 'tempo', 'inteiro', 'o', 'tempo', 'inteiro', 'eu', 'peço', 'para', 'a', 'gente', 'parar', 'de', 'bater', 'nas', 'pessoas', 'o', 'tempo', 'inteiro', 'eu', 'tento', 'estabelecer', 'uma', 'boa', 'relação', 'com', 'todo', 'mundo', 'minha', 'relação', 'é', 'maravilhosa', 'com', 'todos', 'os', 'generais', 'o', 'senhor', 'se', 'lembra', 'que', 'no', 'início', 'eu', 'não', 'podia', 'participar', 'daquelas', 'reuniões', 'de', 'quartas-feiras', 'porque', 'os', 'generais', 'teriam', 'restrições', 'contra', 'mim', 'eu', 'não', 'entendia', 'que', 'restrições', 'eram', 'aquelas', 'se', 'eles', 'nem', 'me', 'conheciam', 'o', 'senhor', 'hoje', 'pergunte', 'para', 'eles', 'qual', 'o', 'conceito', 'que', 'eles', 'têm', 'a', 'meu', 'respeito', 'sabe', 'capitão', 'eu', 'sou', 'uma', 'pessoa', 'limpa', 'correta', 'infelizmente', 'não', 'sou', 'eu', 'que', 'faço', 'esse', 'rebuliço', 'que', 'crio', 'essa', 'crise', 'eu', 'não', 'falo', 'nada', 'em', 'público', 'muito', 'menos', 'agrido', 'ninguém', 'em', 'público', 'sabe', 'capitão', 'então', 'quando', 'eu', 'recebo', 'esse', 'tipo', 'de', 'coisa', 'depois', 'de', 'um', 'post', 'desse', 'é', 'realmente', 'muito', 'desagradável', 'inverta', 'capitão', 'imagine', 'se', 'eu', 'chamasse', 'alguém', 'de', 'mentiroso', 'em', 'público', 'eu', 'não', 'sou', 'mentiroso', 'ontem', 'eu', 'falei', 'com', 'o', 'senhor', 'três', 'vezes', 'sim', 'falamos', 'pelo', 'whatsapp', 'o', 'que', 'é', 'que', 'tem', 'demais', 'não', 'falamos', 'nada', 'demais', 'a', 'relevância', 'disso', 'tanto', 'assunto', 'grave', 'para', 'a', 'gente', 'tratar', 'tantos', 'problemas', 'eu', 'tento', 'proteger', 'o', 'senhor', 'o', 'tempo', 'inteiro', 'por', 'esse', 'tipo', 'de', 'ataque', 'por', 'que', 'esse', 'ódio', 'o', 'que', 'é', 'que', 'eu', 'fiz', 'de', 'errado', 'meu', 'deus', 'capitão', 'a', 'nota', 'do', 'antagonista', 'que', 'o', 'senhor', 'tá', 'me', 'acusando', 'de', 'ter', 'plantado', 'se', 'o', 'senhor', 'olhar', 'bem', 'eu', 'localizei', 'aqui', 'e', 'mandei', 'pro', 'senhor', 'eu', 'não', 'plantei', 'nada', 'ela', 'replica', 'o', 'que', 'a', 'folha', 'falou', 'está', 'escrito', 'aqui:', 'segundo', 'a', 'folha', 'segundo', 'a', 'folha', 'o', 'ministro', 'gustavo', 'bebianno', 'tentou', 'ligar', 'para', 'jair', 'bolsonaro', 'neste', 'domingo', 'para', 'explicar', 'o', 'caso', 'mas', 'o', 'presidente', 'não', 'atendeu', 'quem', 'mencionou', 'isso', 'não', 'foi', 'o', 'antagonista', 'foi', 'a', 'folha', 'o', 'antagonista', 'simplesmente', 'replicou', 'então', 'capitão', 'eu', 'não', 'plantei', 'nada', 'em', 'lugar', 'nenhum', 'tá', 'abraço', 'não', 'capitão', 'não', 'é', 'isso', 'não', 'eu', 'não', 'tentei', 'ligar', 'pro', 'senhor', 'eu', 'não', 'falei', 'não', 'vazei', 'nada', 'pra', 'ninguém', 'eu', 'nem', 'tentei', 'ligar', 'pro', 'senhor', 'o', 'senhor', 'mandou', 'um', 'recado', 'que', 'era', 'pra', 'eu', 'não', 'ir', 'ao', 'hospital', 'não', 'fui', 'e', 'não', 'liguei', 'pro', 'senhor', 'nenhuma', 'vez', 'deixei', 'o', 'senhor', 'em', 'paz', 'é', 'se', 'eu', 'tentei', 'ligar', 'uma', 'ou', 'duas', 'vezes', 'também', 'não', 'me', 'lembro', 'pelo', 'motivo', 'que', 'foi', 'é', 'não', 'é', 'isso', 'não', 'capitão', 'tá', 'eu', 'não', 'vazei', 'nada', 'pra', 'lugar', 'nenhum', 'muito', 'menos', 'pra', 'folha', 'com', 'quem', 'eu', 'praticamente', 'não', 'falo', 'abraço', 'capitão', 'em', 'relação', 'a', 'isso', 'capitão', 'também', 'acho', 'que', 'a', 'coisa', 'está', 'não', 'está', 'clara', 'a', 'minha', 'tarefa', 'como', 'presidente', 'interino', 'nacional', 'foi', 'cuidar', 'da', 'sua', 'campanha', 'a', 'prestação', 'de', 'contas', 'que', 'me', 'competia', 'foi', 'aprovada', 'com', 'louvor', 'é', 'agora', 'cada', 'estado', 'fez', 'a', 'sua', 'chapa', 'em', 'nenhum', 'partido', 'capitão', 'a', 'nacional', 'é', 'responsável', 'pelas', 'chapas', 'estaduais', 'o', 'senhor', 'sabe', 'disso', 'melhor', 'do', 'que', 'eu', 'e', 'no', 'nosso', 'caso', 'quando', 'eu', 'assumi', 'o', 'psl', 'houve', 'uma', 'grande', 'dificuldade', 'na', 'escolha', 'dos', 'presidentes', 'de', 'cada', 'estado', 'porque', 'nós', 'não', 'sabíamos', 'quem', 'era', 'quem', 'é', 'cada', 'chapa', 'foi', 'montada', 'pela', 'sua', 'estadual', 'no', 'caso', 'de', 'pernambuco', 'pelo', 'bivar', 'logicamente', 'se', 'o', 'bivar', 'escolheu', 'candidata', 'laranja', 'é', 'um', 'problema', 'dele', 'político', 'e', 'é', 'um', 'problema', 'legal', 'dela', 'explicar', 'o', 'que', 'ela', 'fez', 'com', 'o', 'dinheiro', 'da', 'minha', 'parte', 'eu', 'só', 'repassei', 'o', 'dinheiro', 'que', 'me', 'foi', 'solicitado', 'por', 'escrito', 'eu', 'tenho', 'tudo', 'registrado', 'por', 'escrito', 'então', 'é', 'ótimo', 'que', 'a', 'polícia', 'federal', 'esteja', 'é', 'ótimo', 'que', 'investigue', 'é', 'ótimo', 'que', 'apure', 'é', 'ótimo', 'que', 'puna', 'os', 'responsáveis', 'eu', 'não', 'tenho', 'nada', 'a', 'ver', 'com', 'isso', 'é', 'depois', 'a', 'gente', 'conversa', 'pessoalmente', 'capitão', 'tá', 'eu', 'tô', 'vendo', 'que', 'o', 'senhor', 'está', 'bem', 'envenenado', 'mas', 'tudo', 'bem', 'a', 'minha', 'consciência', 'está', 'tranquila', 'o', 'meu', 'papel', 'foi', 'limpo', 'continua', 'sendo', 'e', 'tomara', 'que', 'a', 'polícia', 'chegue', 'mesmo', 'à', 'constatação', 'do', 'que', 'foi', 'feito', 'mas', 'eu', 'não', 'tenho', 'nada', 'a', 'ver', 'com', 'isso', 'o', 'luciano', 'bivar', 'que', 'é', 'responsável', 'lá', 'pela', 'chapa', 'dele', 'abraço', 'capitão']\n"
     ]
    }
   ],
   "source": [
    "fala_bebianno = fala_bebianno.lower()\n",
    "fala_bebianno = fala_bebianno.replace(\".\", \"\")\n",
    "fala_bebianno = fala_bebianno.replace(\"!\", \"\")\n",
    "fala_bebianno = fala_bebianno.replace(\"?\", \"\")\n",
    "fala_bebianno = fala_bebianno.replace(\",\", \"\")\n",
    "fala_bebianno = fala_bebianno.replace(\"...\", \"\")\n",
    "fala_bebianno = fala_bebianno.replace('“', '')\n",
    "fala_bebianno = fala_bebianno.replace('”', '')\n",
    "fala_bebianno = fala_bebianno.replace('…', '')\n",
    "fala_bebianno = fala_bebianno.replace('  ', ' ')\n",
    "fala_bebianno = fala_bebianno.split()\n",
    "\n",
    "print(fala_bebianno)"
   ]
  },
  {
   "cell_type": "code",
   "execution_count": 56,
   "metadata": {},
   "outputs": [
    {
     "name": "stdout",
     "output_type": "stream",
     "text": [
      "Somadas as palavras, os áudios de Gustavo Bebianno têm um total de 780 palavras.\n",
      "\n"
     ]
    }
   ],
   "source": [
    "cont = 0\n",
    "\n",
    "# Conta quantas palavras tem na música\n",
    "for palavra in fala_bebianno:\n",
    "    cont += 1\n",
    "\n",
    "# Mostra a quantidade de palavras das músicas\n",
    "print(f\"Somadas as palavras, os áudios de Gustavo Bebianno têm um total de {cont} palavras.\")\n",
    "print()"
   ]
  },
  {
   "cell_type": "code",
   "execution_count": 57,
   "metadata": {},
   "outputs": [
    {
     "name": "stdout",
     "output_type": "stream",
     "text": [
      "{'duas': 1, 'puna': 1, 'tomara': 1, 'liguei': 1, 'motivo': 1, 'falamos': 5, 'plantado': 1, 'chamar': 1, 'pergunte': 1, 'mim': 2, 'sendo': 1, 'grave': 1, 'ontem': 2, 'ele': 1, 'acusando': 1, 'ou': 1, 'fez': 2, 'federal': 1, 'analisadas': 1, 'ódio': 2, 'ótimo': 4, 'constatação': 1, 'demais': 2, 'faço': 1, 'de': 14, 'globo': 1, 'aqui:': 1, 'praticamente': 1, 'esteja': 1, 'porque': 2, 'mentiroso': 3, 'coisas': 1, 'pessoa': 1, 'será': 1, 'deixei': 1, 'precisam': 1, 'uma': 4, 'escolha': 1, 'ter': 1, 'candidata': 1, 'tudo': 2, 'se': 7, 'nem': 4, 'menos': 2, 'ligar': 4, 'assunto': 1, 'mencionou': 1, 'sou': 3, 'dificuldade': 1, 'ela': 2, 'repassei': 1, 'relevância': 3, 'pernambuco': 1, 'várias': 1, 'dele': 2, 'tratar': 1, 'infelizmente': 1, 'tipo': 2, 'certo': 1, 'replicou': 1, 'chapa': 3, 'essa': 1, 'clara': 1, 'lá': 1, 'isso': 9, 'então': 3, 'pelas': 1, 'assumi': 1, 'tanto': 1, 'teriam': 1, 'pela': 2, 'dos': 1, 'meu': 3, 'localizei': 1, 'seu': 1, 'envenenado': 1, 'lado': 2, 'dela': 1, 'nota': 1, 'olhar': 1, 'me': 6, 'ir': 1, 'aprovada': 1, 'ao': 2, 'competia': 1, 'falou': 1, 'o': 34, 'do': 8, 'viagem': 1, 'não': 31, 'questão': 2, 'as': 1, 'todos': 1, 'pelo': 3, 'caso': 3, 'psl': 1, 'há': 1, 'outra': 1, 'proteger': 1, 'só': 5, 'nenhum': 3, 'presidente': 2, 'sabíamos': 1, 'logicamente': 1, 'e': 5, 'dia': 1, 'fui': 1, 'registrado': 1, 'vazei': 2, 'vir': 1, 'consciência': 1, 'tem': 1, 'problema': 2, 'estabelecer': 1, 'longo': 1, 'os': 3, 'rebuliço': 1, 'coisa': 2, 'alguém': 1, 'nosso': 1, 'gente': 3, 'muito': 3, 'por': 6, 'que': 30, 'falar': 1, 'sabe': 4, 'inverta': 1, 'explicar': 2, 'foi': 9, 'estaduais': 1, 'parte': 1, 'um': 5, 'formas': 1, 'pessoal': 1, 'na': 1, 'louvor': 1, 'era': 2, 'falei': 2, 'conversa': 1, 'hoje': 1, 'bater': 1, 'conceito': 1, 'neste': 1, 'prestação': 1, 'abraço': 3, 'inteiro': 4, 'interino': 1, 'desagradável': 1, 'quartas-feiras': 1, 'senhor': 16, 'simplesmente': 1, 'problemas': 1, 'dessa': 2, 'paz': 2, 'limpo': 1, 'ser': 1, 'ministro': 2, 'público': 4, 'atacar': 1, 'tempo': 4, 'fiz': 3, 'permitir': 1, 'tira': 1, 'parar': 1, 'relação': 3, 'agredido': 1, 'tentei': 3, 'tarefa': 1, 'crio': 1, 'chapas': 1, 'melhor': 1, 'a': 27, 'tento': 2, 'mesmo': 1, 'até': 1, 'desse': 1, 'bolsonaro': 1, 'cada': 3, 'aqui': 2, 'polícia': 2, 'grande': 1, 'vai': 1, 'pessoas': 1, 'estive': 1, 'bem': 5, 'é': 19, 'chamasse': 1, 'deus': 1, 'pro': 4, 'correta': 1, 'vendo': 1, 'minha': 4, 'realmente': 1, 'capitão': 21, 'escolheu': 1, 'respeito': 1, 'lembro': 1, 'ninguém': 3, 'legal': 1, 'peço': 1, 'responsável': 2, 'solicitado': 1, 'daquelas': 1, 'político': 1, 'ver': 2, 'continua': 1, 'antagonista': 3, 'participar': 1, 'maravilhosa': 1, 'mundo': 1, 'estadual': 1, 'nada': 8, 'estado': 2, 'recado': 1, 'folha': 5, 'da': 5, 'escrito': 4, 'replica': 1, 'sua': 3, 'nós': 2, 'falo': 2, 'contra': 1, 'nacional': 2, 'bebianno': 1, 'seja': 1, 'sim': 1, 'atendeu': 1, 'investigue': 1, 'mensagens': 1, 'mas': 3, 'trocamos': 1, 'no': 3, 'pra': 4, 'presidentes': 1, 'qual': 3, 'mandou': 1, 'podia': 1, 'vezes': 3, 'eram': 1, 'quem': 4, 'hospital': 1, 'contas': 1, 'aquelas': 1, 'acho': 1, 'prego': 1, 'institucional': 1, 'boa': 1, 'tantos': 1, 'dinheiro': 2, 'quando': 2, 'domingo': 1, 'ataque': 1, 'tenho': 3, 'eles': 3, 'errado': 2, 'depois': 2, 'eu': 35, 'lugar': 2, 'papel': 1, 'campanha': 1, 'whatsapp': 1, 'reuniões': 1, 'partido': 1, 'esse': 5, 'para': 5, 'vez': 1, 'agora': 1, 'bivar': 3, 'disso': 5, 'pode': 1, 'conheciam': 1, 'gustavo': 1, 'segundo': 2, 'tranquila': 1, 'generais': 2, 'limpa': 1, 'nenhuma': 1, 'imagine': 1, 'está': 7, 'têm': 1, 'mandei': 1, 'plantei': 2, 'também': 2, 'cuidar': 1, 'houve': 1, 'laranja': 1, 'início': 1, 'entendia': 1, 'responsáveis': 1, 'tentou': 1, 'jair': 1, 'nas': 1, 'agrido': 1, 'luciano': 1, 'post': 1, 'como': 1, 'tá': 4, 'à': 1, 'montada': 1, 'chegue': 1, 'com': 8, 'feito': 1, 'restrições': 2, 'crise': 1, 'desculpe': 1, 'recebo': 1, 'tô': 1, 'todo': 1, 'em': 7, 'apure': 1, 'forma': 3, 'pessoalmente': 1, 'três': 2, 'lembra': 1}\n"
     ]
    }
   ],
   "source": [
    "import csv\n",
    "\n",
    "contagem_repeticoes = {palavra:fala_bebianno.count(palavra) for palavra in set(fala_bebianno)}\n",
    "\n",
    "print(contagem_repeticoes)\n",
    "\n",
    "with open('palavras_repetidas_bebianno.csv'.format(str(contagem_repeticoes)), 'w') as arquivo_saida:\n",
    "    cabecalho = ['palavra', 'frequencia']\n",
    "    escritor = csv.DictWriter(arquivo_saida, fieldnames=cabecalho, lineterminator='\\n')\n",
    "    escritor.writeheader()\n",
    "    for palavra, frequencia in contagem_repeticoes.items():\n",
    "        escritor.writerow({'palavra': palavra, 'frequencia': frequencia})"
   ]
  },
  {
   "cell_type": "code",
   "execution_count": null,
   "metadata": {},
   "outputs": [],
   "source": []
  }
 ],
 "metadata": {
  "kernelspec": {
   "display_name": "Python 3",
   "language": "python",
   "name": "python3"
  },
  "language_info": {
   "codemirror_mode": {
    "name": "ipython",
    "version": 3
   },
   "file_extension": ".py",
   "mimetype": "text/x-python",
   "name": "python",
   "nbconvert_exporter": "python",
   "pygments_lexer": "ipython3",
   "version": "3.6.4"
  }
 },
 "nbformat": 4,
 "nbformat_minor": 2
}
